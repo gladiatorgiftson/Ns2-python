{
 "cells": [
  {
   "cell_type": "code",
   "execution_count": 35,
   "metadata": {},
   "outputs": [],
   "source": [
    "import pandas as pd"
   ]
  },
  {
   "cell_type": "code",
   "execution_count": 36,
   "metadata": {},
   "outputs": [],
   "source": [
    "lister=['+', '1', '0', '3', 'tcp', '40', '-', '-', '-', '-', '-', '-', '-', '0', '0.0', '8.0', '0', '0']\n"
   ]
  },
  {
   "cell_type": "code",
   "execution_count": 37,
   "metadata": {},
   "outputs": [],
   "source": [
    "s0 = pd.Series(lister[0])\n",
    "s1 = pd.Series(lister[1])\n",
    "s2 = pd.Series(lister[2])\n",
    "s3 = pd.Series(lister[3])\n",
    "s4 = pd.Series(lister[4])\n",
    "s5 = pd.Series(lister[5])\n",
    "s6 = pd.Series(lister[6])\n",
    "s7 = pd.Series(lister[7])\n",
    "s8 = pd.Series(lister[8])\n",
    "s9 = pd.Series(lister[9])\n",
    "s10 = pd.Series(lister[10])\n",
    "s11 = pd.Series(lister[11])\n",
    "s12 = pd.Series(lister[12])\n",
    "s13 = pd.Series(lister[13])\n",
    "s14 = pd.Series(lister[14])\n",
    "s15 = pd.Series(lister[15])\n",
    "s16 = pd.Series(lister[16])\n",
    "s17 = pd.Series(lister[17])"
   ]
  },
  {
   "cell_type": "code",
   "execution_count": 38,
   "metadata": {},
   "outputs": [],
   "source": [
    "data={\"Event\":s0,\"Time\":s1,\"From node\":s2,\"To node\":s3,\"pkt Type\":s4,\"pkt size\":s5,\"E:ECN\":s6,\"P\":s7,\"NAN\":s8,\"A\":s9,\"E\":s10,\"F\":s11,\"N\":s12,\"Flow id\":s13,\"source\":s14,\"destination\":s15,\"sequence no\":s16,\"packet unique id\":s17}"
   ]
  },
  {
   "cell_type": "code",
   "execution_count": 40,
   "metadata": {},
   "outputs": [],
   "source": [
    "dfseries0 = pd.DataFrame(data)"
   ]
  },
  {
   "cell_type": "code",
   "execution_count": 41,
   "metadata": {},
   "outputs": [
    {
     "data": {
      "text/html": [
       "<div>\n",
       "<style scoped>\n",
       "    .dataframe tbody tr th:only-of-type {\n",
       "        vertical-align: middle;\n",
       "    }\n",
       "\n",
       "    .dataframe tbody tr th {\n",
       "        vertical-align: top;\n",
       "    }\n",
       "\n",
       "    .dataframe thead th {\n",
       "        text-align: right;\n",
       "    }\n",
       "</style>\n",
       "<table border=\"1\" class=\"dataframe\">\n",
       "  <thead>\n",
       "    <tr style=\"text-align: right;\">\n",
       "      <th></th>\n",
       "      <th>Event</th>\n",
       "      <th>Time</th>\n",
       "      <th>From node</th>\n",
       "      <th>To node</th>\n",
       "      <th>pkt Type</th>\n",
       "      <th>pkt size</th>\n",
       "      <th>E:ECN</th>\n",
       "      <th>P</th>\n",
       "      <th>NAN</th>\n",
       "      <th>A</th>\n",
       "      <th>E</th>\n",
       "      <th>F</th>\n",
       "      <th>N</th>\n",
       "      <th>Flow id</th>\n",
       "      <th>source</th>\n",
       "      <th>destination</th>\n",
       "      <th>sequence no</th>\n",
       "      <th>packet unique id</th>\n",
       "    </tr>\n",
       "  </thead>\n",
       "  <tbody>\n",
       "    <tr>\n",
       "      <th>0</th>\n",
       "      <td>+</td>\n",
       "      <td>1</td>\n",
       "      <td>0</td>\n",
       "      <td>3</td>\n",
       "      <td>tcp</td>\n",
       "      <td>40</td>\n",
       "      <td>-</td>\n",
       "      <td>-</td>\n",
       "      <td>-</td>\n",
       "      <td>-</td>\n",
       "      <td>-</td>\n",
       "      <td>-</td>\n",
       "      <td>-</td>\n",
       "      <td>0</td>\n",
       "      <td>0.0</td>\n",
       "      <td>8.0</td>\n",
       "      <td>0</td>\n",
       "      <td>0</td>\n",
       "    </tr>\n",
       "  </tbody>\n",
       "</table>\n",
       "</div>"
      ],
      "text/plain": [
       "  Event Time From node To node pkt Type pkt size E:ECN  P NAN  A  E  F  N  \\\n",
       "0     +    1         0       3      tcp       40     -  -   -  -  -  -  -   \n",
       "\n",
       "  Flow id source destination sequence no packet unique id  \n",
       "0       0    0.0         8.0           0                0  "
      ]
     },
     "execution_count": 41,
     "metadata": {},
     "output_type": "execute_result"
    }
   ],
   "source": [
    "dfseries"
   ]
  },
  {
   "cell_type": "code",
   "execution_count": 42,
   "metadata": {},
   "outputs": [],
   "source": [
    "data1={\"Event\":s0,\"Time\":s1,\"From node\":s2,\"To node\":s3,\"pkt Type\":s4,\"pkt size\":s5,\"E:ECN\":s6,\"P\":s7,\"NAN\":s8,\"A\":s9,\"E\":s10,\"F\":s11,\"N\":s12,\"Flow id\":s13,\"source\":s14,\"destination\":s15,\"sequence no\":s16,\"packet unique id\":s17}"
   ]
  },
  {
   "cell_type": "code",
   "execution_count": 43,
   "metadata": {},
   "outputs": [],
   "source": [
    "dfseries1 = pd.DataFrame(data)"
   ]
  },
  {
   "cell_type": "code",
   "execution_count": 45,
   "metadata": {},
   "outputs": [],
   "source": [
    "merged_df = pd.concat([dfseries0, dfseries1],ignore_index=True)\n"
   ]
  },
  {
   "cell_type": "code",
   "execution_count": 46,
   "metadata": {},
   "outputs": [
    {
     "data": {
      "text/html": [
       "<div>\n",
       "<style scoped>\n",
       "    .dataframe tbody tr th:only-of-type {\n",
       "        vertical-align: middle;\n",
       "    }\n",
       "\n",
       "    .dataframe tbody tr th {\n",
       "        vertical-align: top;\n",
       "    }\n",
       "\n",
       "    .dataframe thead th {\n",
       "        text-align: right;\n",
       "    }\n",
       "</style>\n",
       "<table border=\"1\" class=\"dataframe\">\n",
       "  <thead>\n",
       "    <tr style=\"text-align: right;\">\n",
       "      <th></th>\n",
       "      <th>Event</th>\n",
       "      <th>Time</th>\n",
       "      <th>From node</th>\n",
       "      <th>To node</th>\n",
       "      <th>pkt Type</th>\n",
       "      <th>pkt size</th>\n",
       "      <th>E:ECN</th>\n",
       "      <th>P</th>\n",
       "      <th>NAN</th>\n",
       "      <th>A</th>\n",
       "      <th>E</th>\n",
       "      <th>F</th>\n",
       "      <th>N</th>\n",
       "      <th>Flow id</th>\n",
       "      <th>source</th>\n",
       "      <th>destination</th>\n",
       "      <th>sequence no</th>\n",
       "      <th>packet unique id</th>\n",
       "    </tr>\n",
       "  </thead>\n",
       "  <tbody>\n",
       "    <tr>\n",
       "      <th>0</th>\n",
       "      <td>+</td>\n",
       "      <td>1</td>\n",
       "      <td>0</td>\n",
       "      <td>3</td>\n",
       "      <td>tcp</td>\n",
       "      <td>40</td>\n",
       "      <td>-</td>\n",
       "      <td>-</td>\n",
       "      <td>-</td>\n",
       "      <td>-</td>\n",
       "      <td>-</td>\n",
       "      <td>-</td>\n",
       "      <td>-</td>\n",
       "      <td>0</td>\n",
       "      <td>0.0</td>\n",
       "      <td>8.0</td>\n",
       "      <td>0</td>\n",
       "      <td>0</td>\n",
       "    </tr>\n",
       "    <tr>\n",
       "      <th>1</th>\n",
       "      <td>+</td>\n",
       "      <td>1</td>\n",
       "      <td>0</td>\n",
       "      <td>3</td>\n",
       "      <td>tcp</td>\n",
       "      <td>40</td>\n",
       "      <td>-</td>\n",
       "      <td>-</td>\n",
       "      <td>-</td>\n",
       "      <td>-</td>\n",
       "      <td>-</td>\n",
       "      <td>-</td>\n",
       "      <td>-</td>\n",
       "      <td>0</td>\n",
       "      <td>0.0</td>\n",
       "      <td>8.0</td>\n",
       "      <td>0</td>\n",
       "      <td>0</td>\n",
       "    </tr>\n",
       "  </tbody>\n",
       "</table>\n",
       "</div>"
      ],
      "text/plain": [
       "  Event Time From node To node pkt Type pkt size E:ECN  P NAN  A  E  F  N  \\\n",
       "0     +    1         0       3      tcp       40     -  -   -  -  -  -  -   \n",
       "1     +    1         0       3      tcp       40     -  -   -  -  -  -  -   \n",
       "\n",
       "  Flow id source destination sequence no packet unique id  \n",
       "0       0    0.0         8.0           0                0  \n",
       "1       0    0.0         8.0           0                0  "
      ]
     },
     "execution_count": 46,
     "metadata": {},
     "output_type": "execute_result"
    }
   ],
   "source": [
    "merged_df"
   ]
  },
  {
   "cell_type": "code",
   "execution_count": 47,
   "metadata": {},
   "outputs": [],
   "source": [
    "dfseries2 = pd.DataFrame(data)"
   ]
  },
  {
   "cell_type": "code",
   "execution_count": 48,
   "metadata": {},
   "outputs": [],
   "source": [
    "df = pd.concat([merged_df,dfseries2],ignore_index=True)"
   ]
  },
  {
   "cell_type": "code",
   "execution_count": 49,
   "metadata": {},
   "outputs": [
    {
     "data": {
      "text/html": [
       "<div>\n",
       "<style scoped>\n",
       "    .dataframe tbody tr th:only-of-type {\n",
       "        vertical-align: middle;\n",
       "    }\n",
       "\n",
       "    .dataframe tbody tr th {\n",
       "        vertical-align: top;\n",
       "    }\n",
       "\n",
       "    .dataframe thead th {\n",
       "        text-align: right;\n",
       "    }\n",
       "</style>\n",
       "<table border=\"1\" class=\"dataframe\">\n",
       "  <thead>\n",
       "    <tr style=\"text-align: right;\">\n",
       "      <th></th>\n",
       "      <th>Event</th>\n",
       "      <th>Time</th>\n",
       "      <th>From node</th>\n",
       "      <th>To node</th>\n",
       "      <th>pkt Type</th>\n",
       "      <th>pkt size</th>\n",
       "      <th>E:ECN</th>\n",
       "      <th>P</th>\n",
       "      <th>NAN</th>\n",
       "      <th>A</th>\n",
       "      <th>E</th>\n",
       "      <th>F</th>\n",
       "      <th>N</th>\n",
       "      <th>Flow id</th>\n",
       "      <th>source</th>\n",
       "      <th>destination</th>\n",
       "      <th>sequence no</th>\n",
       "      <th>packet unique id</th>\n",
       "    </tr>\n",
       "  </thead>\n",
       "  <tbody>\n",
       "    <tr>\n",
       "      <th>0</th>\n",
       "      <td>+</td>\n",
       "      <td>1</td>\n",
       "      <td>0</td>\n",
       "      <td>3</td>\n",
       "      <td>tcp</td>\n",
       "      <td>40</td>\n",
       "      <td>-</td>\n",
       "      <td>-</td>\n",
       "      <td>-</td>\n",
       "      <td>-</td>\n",
       "      <td>-</td>\n",
       "      <td>-</td>\n",
       "      <td>-</td>\n",
       "      <td>0</td>\n",
       "      <td>0.0</td>\n",
       "      <td>8.0</td>\n",
       "      <td>0</td>\n",
       "      <td>0</td>\n",
       "    </tr>\n",
       "    <tr>\n",
       "      <th>1</th>\n",
       "      <td>+</td>\n",
       "      <td>1</td>\n",
       "      <td>0</td>\n",
       "      <td>3</td>\n",
       "      <td>tcp</td>\n",
       "      <td>40</td>\n",
       "      <td>-</td>\n",
       "      <td>-</td>\n",
       "      <td>-</td>\n",
       "      <td>-</td>\n",
       "      <td>-</td>\n",
       "      <td>-</td>\n",
       "      <td>-</td>\n",
       "      <td>0</td>\n",
       "      <td>0.0</td>\n",
       "      <td>8.0</td>\n",
       "      <td>0</td>\n",
       "      <td>0</td>\n",
       "    </tr>\n",
       "    <tr>\n",
       "      <th>2</th>\n",
       "      <td>+</td>\n",
       "      <td>1</td>\n",
       "      <td>0</td>\n",
       "      <td>3</td>\n",
       "      <td>tcp</td>\n",
       "      <td>40</td>\n",
       "      <td>-</td>\n",
       "      <td>-</td>\n",
       "      <td>-</td>\n",
       "      <td>-</td>\n",
       "      <td>-</td>\n",
       "      <td>-</td>\n",
       "      <td>-</td>\n",
       "      <td>0</td>\n",
       "      <td>0.0</td>\n",
       "      <td>8.0</td>\n",
       "      <td>0</td>\n",
       "      <td>0</td>\n",
       "    </tr>\n",
       "  </tbody>\n",
       "</table>\n",
       "</div>"
      ],
      "text/plain": [
       "  Event Time From node To node pkt Type pkt size E:ECN  P NAN  A  E  F  N  \\\n",
       "0     +    1         0       3      tcp       40     -  -   -  -  -  -  -   \n",
       "1     +    1         0       3      tcp       40     -  -   -  -  -  -  -   \n",
       "2     +    1         0       3      tcp       40     -  -   -  -  -  -  -   \n",
       "\n",
       "  Flow id source destination sequence no packet unique id  \n",
       "0       0    0.0         8.0           0                0  \n",
       "1       0    0.0         8.0           0                0  \n",
       "2       0    0.0         8.0           0                0  "
      ]
     },
     "execution_count": 49,
     "metadata": {},
     "output_type": "execute_result"
    }
   ],
   "source": [
    "df"
   ]
  },
  {
   "cell_type": "code",
   "execution_count": null,
   "metadata": {},
   "outputs": [],
   "source": []
  }
 ],
 "metadata": {
  "kernelspec": {
   "display_name": "Python 3",
   "language": "python",
   "name": "python3"
  },
  "language_info": {
   "codemirror_mode": {
    "name": "ipython",
    "version": 3
   },
   "file_extension": ".py",
   "mimetype": "text/x-python",
   "name": "python",
   "nbconvert_exporter": "python",
   "pygments_lexer": "ipython3",
   "version": "3.7.6"
  }
 },
 "nbformat": 4,
 "nbformat_minor": 2
}
